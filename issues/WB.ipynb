{
 "cells": [
  {
   "cell_type": "markdown",
   "metadata": {},
   "source": [
    "#### Przejdę przez Twój kod linijka po linijce\n",
    "\n",
    "###### Cel: połączyć obecne directory z folderem Tygrysek_Kazimierz. Ważna uwaga: ten folder nie musi istnieć!"
   ]
  },
  {
   "cell_type": "code",
   "execution_count": 2,
   "metadata": {
    "collapsed": true
   },
   "outputs": [],
   "source": [
    "#importuje os\n",
    "#comment: ok, bez tego byłoby ciężko\n",
    "import os"
   ]
  },
  {
   "cell_type": "code",
   "execution_count": 3,
   "metadata": {
    "collapsed": true
   },
   "outputs": [],
   "source": [
    "#otrzymuję obecne directory\n",
    "#comment: super, faktycznie ta funkcja jest nam potrzebna żeby się dowiedzieć gdzie jesteśmy\n",
    "cwd = os.getcwd()"
   ]
  },
  {
   "cell_type": "code",
   "execution_count": 5,
   "metadata": {},
   "outputs": [
    {
     "data": {
      "text/plain": [
       "'/Users/Gacek/Documents/Python/Koło/Issues'"
      ]
     },
     "execution_count": 5,
     "metadata": {},
     "output_type": "execute_result"
    }
   ],
   "source": [
    "cwd"
   ]
  },
  {
   "cell_type": "code",
   "execution_count": 7,
   "metadata": {},
   "outputs": [
    {
     "data": {
      "text/plain": [
       "'/Users/Gacek/Documents/Python/Koło/Issues\\\\Tygrysek_Kazimierz'"
      ]
     },
     "execution_count": 7,
     "metadata": {},
     "output_type": "execute_result"
    }
   ],
   "source": [
    "#comment: wyświetlmy sobie jak to wygląda.\n",
    "#Widać, że o ile na windowsie jakoś by to poszło, o tyle na moim nieszczęsnym osx już gorzej.\n",
    "cwd+'\\Tygrysek_Kazimierz'"
   ]
  },
  {
   "cell_type": "code",
   "execution_count": null,
   "metadata": {
    "collapsed": true
   },
   "outputs": [],
   "source": [
    "#w obecnym tworzę folder\n",
    "#comment: przy takim kodzie u mnie powstał folder Issues\\Tygrysek_Kazimierz - nie do końca o to chodziło\n",
    "os.makedirs(cwd+'/Tygrysek_Kazimierz')"
   ]
  },
  {
   "cell_type": "code",
   "execution_count": 9,
   "metadata": {},
   "outputs": [
    {
     "data": {
      "text/plain": [
       "'/Users/Gacek/Documents/Python/Koło/Issues/Tygrysek_Kazimierz'"
      ]
     },
     "execution_count": 9,
     "metadata": {},
     "output_type": "execute_result"
    }
   ],
   "source": [
    "#comment: Na potrzeby makowe dostosuję nieco skrypt\n",
    "cwd+'/Tygrysek_Kazimierz'"
   ]
  },
  {
   "cell_type": "code",
   "execution_count": 10,
   "metadata": {
    "collapsed": true
   },
   "outputs": [],
   "source": [
    "#tworzę folder - ok, teraz coś takiego pójdzie na OS X,\n",
    "#ale na Windowsie z kolei albo zrobi jakiś dziwny folder, albo w ogóle wywali błąd\n",
    "\n",
    "os.makedirs(cwd+'/Tygrysek_Kazimierz')"
   ]
  },
  {
   "cell_type": "code",
   "execution_count": 13,
   "metadata": {
    "collapsed": true
   },
   "outputs": [],
   "source": [
    "dire1=cwd+'\\Tygrysek_Kazimierz'"
   ]
  },
  {
   "cell_type": "code",
   "execution_count": 14,
   "metadata": {},
   "outputs": [
    {
     "data": {
      "text/plain": [
       "'dire1/cwd'"
      ]
     },
     "execution_count": 14,
     "metadata": {},
     "output_type": "execute_result"
    }
   ],
   "source": [
    "#łączę dwie ścieżki?\n",
    "#comment: no łączysz, ale zauważ że wpisałeś '', a co za tym idzie dla Pythona to nie jest odniesienie do zmiennych,\n",
    "##lecz do tekstu. Co ważne, to jest ta funkcja, której powinieneś użyć - ona sama dodaje odpowiedni slash,\n",
    "##w zależności od systemu operacyjnego\n",
    "os.path.join('dire1', 'cwd')"
   ]
  },
  {
   "cell_type": "code",
   "execution_count": 11,
   "metadata": {},
   "outputs": [
    {
     "name": "stdout",
     "output_type": "stream",
     "text": [
      "/Users/Gacek/Documents/Python/Koło/Issues\\Tygrysek_Kazimierz/Users/Gacek/Documents/Python/Koło/Issues\n"
     ]
    }
   ],
   "source": [
    "#nie mam pojęcia jak to połącznie zapisać do zmiennej.\n",
    "#kazio='dire1', 'cwd'\n",
    "print(dire1 + cwd)\n"
   ]
  },
  {
   "cell_type": "code",
   "execution_count": 15,
   "metadata": {
    "collapsed": true
   },
   "outputs": [],
   "source": [
    "##comment: no dobra, to teraz pytanie dlaczego wychodzi dwa razy przyklejona do siebie ścieżka:\n",
    "##Twoja zmienna dire1 to ścieżka, cwd to mniej więcej ta sama ścieżka. Więc jak skleisz je do siebie,\n",
    "##to wychodzi dwa razy to samo (tyle że zlepione ze sobą)"
   ]
  },
  {
   "cell_type": "markdown",
   "metadata": {},
   "source": [
    "##### To teraz jak to zrobić:"
   ]
  },
  {
   "cell_type": "code",
   "execution_count": 16,
   "metadata": {
    "collapsed": true
   },
   "outputs": [],
   "source": [
    "import os"
   ]
  },
  {
   "cell_type": "code",
   "execution_count": 17,
   "metadata": {
    "collapsed": true
   },
   "outputs": [],
   "source": [
    "myDir = os.getcwd()"
   ]
  },
  {
   "cell_type": "code",
   "execution_count": 18,
   "metadata": {},
   "outputs": [
    {
     "data": {
      "text/plain": [
       "'/Users/Gacek/Documents/Python/Koło/Issues'"
      ]
     },
     "execution_count": 18,
     "metadata": {},
     "output_type": "execute_result"
    }
   ],
   "source": [
    "#zauważ, że dla nas to może być ścieżka, ale dla Pythona to jest zwykły tekst (string)\n",
    "myDir"
   ]
  },
  {
   "cell_type": "code",
   "execution_count": 19,
   "metadata": {},
   "outputs": [
    {
     "data": {
      "text/plain": [
       "str"
      ]
     },
     "execution_count": 19,
     "metadata": {},
     "output_type": "execute_result"
    }
   ],
   "source": [
    "type(myDir)"
   ]
  },
  {
   "cell_type": "code",
   "execution_count": 20,
   "metadata": {},
   "outputs": [
    {
     "data": {
      "text/plain": [
       "'/Users/Gacek/Documents/Python/Koło/Issues/Tygrysek_Kazimierz'"
      ]
     },
     "execution_count": 20,
     "metadata": {},
     "output_type": "execute_result"
    }
   ],
   "source": [
    "#dla nas dalej ścieżka, dla Pythona tylko tekst.\n",
    "os.path.join(myDir, 'Tygrysek_Kazimierz')"
   ]
  },
  {
   "cell_type": "code",
   "execution_count": 21,
   "metadata": {
    "collapsed": true
   },
   "outputs": [],
   "source": [
    "#zapisujemy do zmiennej\n",
    "kazio = os.path.join(myDir, 'Tygrysek_Kazimierz')"
   ]
  },
  {
   "cell_type": "code",
   "execution_count": 22,
   "metadata": {},
   "outputs": [
    {
     "name": "stdout",
     "output_type": "stream",
     "text": [
      "/Users/Gacek/Documents/Python/Koło/Issues/Tygrysek_Kazimierz\n"
     ]
    }
   ],
   "source": [
    "print(kazio)"
   ]
  },
  {
   "cell_type": "code",
   "execution_count": 23,
   "metadata": {},
   "outputs": [
    {
     "data": {
      "text/plain": [
       "str"
      ]
     },
     "execution_count": 23,
     "metadata": {},
     "output_type": "execute_result"
    }
   ],
   "source": [
    "type(kazio)"
   ]
  },
  {
   "cell_type": "code",
   "execution_count": 25,
   "metadata": {},
   "outputs": [],
   "source": [
    "#no i jeśli bardzo chcemy faktycznie taki folder stworzyć, to teraz możemy:\n",
    "\n",
    "os.makedirs(kazio)"
   ]
  }
 ],
 "metadata": {
  "kernelspec": {
   "display_name": "Python 3",
   "language": "python",
   "name": "python3"
  },
  "language_info": {
   "codemirror_mode": {
    "name": "ipython",
    "version": 3
   },
   "file_extension": ".py",
   "mimetype": "text/x-python",
   "name": "python",
   "nbconvert_exporter": "python",
   "pygments_lexer": "ipython3",
   "version": "3.6.1"
  }
 },
 "nbformat": 4,
 "nbformat_minor": 2
}
